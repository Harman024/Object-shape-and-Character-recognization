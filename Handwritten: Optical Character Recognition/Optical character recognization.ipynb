{
  "cells": [
    {
      "cell_type": "code",
      "execution_count": null,
      "metadata": {
        "colab": {
          "base_uri": "https://localhost:8080/"
        },
        "id": "L82tKF1fMHdC",
        "outputId": "37e2f363-dec0-41b3-b2b1-e4943a080021"
      },
      "outputs": [
        {
          "output_type": "stream",
          "name": "stdout",
          "text": [
            "Mounted at /content/drive\n"
          ]
        }
      ],
      "source": [
        "from google.colab import drive\n",
        "drive.mount('/content/drive')"
      ]
    },
    {
      "cell_type": "code",
      "execution_count": null,
      "metadata": {
        "id": "FdRgZebQxmVT"
      },
      "outputs": [],
      "source": [
        "from tensorflow.keras.datasets.mnist import load_data\n",
        "import matplotlib.pyplot as plt\n",
        "import numpy as np\n",
        "import pandas as pd\n",
        "import seaborn as sns\n",
        "from PIL import Image"
      ]
    },
    {
      "cell_type": "code",
      "execution_count": null,
      "metadata": {
        "id": "MK7vRUgyxmVY"
      },
      "outputs": [],
      "source": [
        "# Download image data\n",
        "(train_digits, train_labels), (test_digits, test_labels) = load_data()"
      ]
    },
    {
      "cell_type": "markdown",
      "source": [
        "# 56x56"
      ],
      "metadata": {
        "id": "xxJ_Orj52RLT"
      }
    },
    {
      "cell_type": "code",
      "execution_count": null,
      "metadata": {
        "colab": {
          "base_uri": "https://localhost:8080/"
        },
        "id": "ywWhlFR1OwPU",
        "outputId": "03fa9ebe-16f3-4315-cefd-3a8f4cfed2ce"
      },
      "outputs": [
        {
          "output_type": "stream",
          "name": "stdout",
          "text": [
            "60000\n"
          ]
        }
      ],
      "source": [
        "new_train_digits = []\n",
        "for i in range(1,len(train_digits)+1):\n",
        "  temp = Image.fromarray(train_digits[i-1])\n",
        "  temp = temp.resize((56, 56))\n",
        "  new_train_digits.append(np.array(temp))\n",
        "print(i)"
      ]
    },
    {
      "cell_type": "code",
      "execution_count": null,
      "metadata": {
        "colab": {
          "base_uri": "https://localhost:8080/"
        },
        "id": "VI4R-H8cM04L",
        "outputId": "75979377-9a03-47e4-d15f-bac9358130c9"
      },
      "outputs": [
        {
          "output_type": "stream",
          "name": "stdout",
          "text": [
            "10000\n"
          ]
        }
      ],
      "source": [
        "new_test_digits = []\n",
        "for i in range(1,len(test_digits)+1):\n",
        "  temp = Image.fromarray(test_digits[i-1])\n",
        "  temp = temp.resize((56, 56))\n",
        "  new_test_digits.append(np.array(temp))\n",
        "print(i)"
      ]
    },
    {
      "cell_type": "code",
      "execution_count": null,
      "metadata": {
        "id": "lT17cJIRQkzx"
      },
      "outputs": [],
      "source": [
        "train_digits = np.array(new_train_digits)\n",
        "test_digits = np.array(new_test_digits)"
      ]
    },
    {
      "cell_type": "code",
      "execution_count": null,
      "metadata": {
        "colab": {
          "base_uri": "https://localhost:8080/"
        },
        "id": "jjJhsIJExmVb",
        "outputId": "9fbb19b7-2c00-47cc-8435-5b1acfece9c4"
      },
      "outputs": [
        {
          "output_type": "execute_result",
          "data": {
            "text/plain": [
              "(60000, 56, 56)"
            ]
          },
          "metadata": {},
          "execution_count": 99
        }
      ],
      "source": [
        "# Num of Samples = 60000, shape of Image = 28x28 (Height x Width)\n",
        "train_digits.shape"
      ]
    },
    {
      "cell_type": "code",
      "execution_count": null,
      "metadata": {
        "colab": {
          "base_uri": "https://localhost:8080/"
        },
        "id": "wme6z4L9xmVc",
        "outputId": "05817c09-09a4-4006-d6e3-2235c1c09a04"
      },
      "outputs": [
        {
          "output_type": "execute_result",
          "data": {
            "text/plain": [
              "(10000, 56, 56)"
            ]
          },
          "metadata": {},
          "execution_count": 8
        }
      ],
      "source": [
        "test_digits.shape"
      ]
    },
    {
      "cell_type": "markdown",
      "metadata": {
        "id": "2wACcAoBxmVd"
      },
      "source": [
        "#### Dsiplay Image Data"
      ]
    },
    {
      "cell_type": "code",
      "execution_count": null,
      "metadata": {
        "colab": {
          "base_uri": "https://localhost:8080/",
          "height": 256
        },
        "id": "00g0L8k1xmVg",
        "outputId": "b15495c3-b813-461b-f23a-7a2e5bc13e67",
        "scrolled": true
      },
      "outputs": [
        {
          "output_type": "display_data",
          "data": {
            "image/png": "[encoded data removed]",
            "text/plain": [
              "<Figure size 1440x288 with 5 Axes>"
            ]
          },
          "metadata": {}
        }
      ],
      "source": [
        "plt.figure(figsize = (20,4))\n",
        "\n",
        "for index, (image,label) in enumerate(zip(train_digits[0:5], train_labels[0:5])):\n",
        "    plt.subplot(1, 5, index+1)\n",
        "    # This convert arrays into images\n",
        "    plt.imshow(np.reshape(image, (56,56)), cmap = 'gray')\n",
        "    plt.title(\"Label %i\" %label, fontsize = 12)\n",
        "plt.show()"
      ]
    },
    {
      "cell_type": "markdown",
      "metadata": {
        "id": "CEcj-_bYxmVh"
      },
      "source": [
        "#### Labels"
      ]
    },
    {
      "cell_type": "code",
      "execution_count": null,
      "metadata": {
        "colab": {
          "base_uri": "https://localhost:8080/"
        },
        "id": "3JZtvy-5xmVi",
        "outputId": "c4a870ba-6c68-4eca-e7b1-c70f0e76dede"
      },
      "outputs": [
        {
          "output_type": "execute_result",
          "data": {
            "text/plain": [
              "array([5, 0, 4, 1, 9, 2, 3, 6, 7, 8], dtype=uint8)"
            ]
          },
          "metadata": {},
          "execution_count": 66
        }
      ],
      "source": [
        "pd.Series(train_labels).unique()"
      ]
    },
    {
      "cell_type": "markdown",
      "metadata": {
        "id": "JiTluOAYxmVk"
      },
      "source": [
        "#### Reshaping of target into Categorical Data"
      ]
    },
    {
      "cell_type": "code",
      "execution_count": null,
      "metadata": {
        "id": "ktz3EEMZxmVl"
      },
      "outputs": [],
      "source": [
        "# For multi-class use one-hot encoding\n",
        "from tensorflow.keras.utils import to_categorical\n",
        "num_classes = 10\n",
        "train_labels_cat = to_categorical(train_labels, num_classes)\n",
        "test_labels_cat = to_categorical(test_labels, num_classes)"
      ]
    },
    {
      "cell_type": "code",
      "execution_count": null,
      "metadata": {
        "colab": {
          "base_uri": "https://localhost:8080/"
        },
        "id": "3uCA-iYexmVm",
        "outputId": "49153638-5d47-478e-9a38-2cffd45ee61c",
        "scrolled": true
      },
      "outputs": [
        {
          "output_type": "execute_result",
          "data": {
            "text/plain": [
              "array([0., 0., 0., 0., 0., 1., 0., 0., 0., 0.], dtype=float32)"
            ]
          },
          "metadata": {},
          "execution_count": 101
        }
      ],
      "source": [
        "train_labels_cat[0]"
      ]
    },
    {
      "cell_type": "code",
      "execution_count": null,
      "metadata": {
        "id": "yJSUWvKbxmVo"
      },
      "outputs": [],
      "source": [
        "train_data = train_digits.reshape(60000, 3136)\n",
        "test_data = test_digits.reshape(10000, 3136)"
      ]
    },
    {
      "cell_type": "markdown",
      "metadata": {
        "id": "xYAWdaaCxmVq"
      },
      "source": [
        "#### Image Normalization"
      ]
    },
    {
      "cell_type": "code",
      "execution_count": null,
      "metadata": {
        "id": "k293SF0FxmVq"
      },
      "outputs": [],
      "source": [
        "train_data1 = train_data.astype('float32') / 255\n",
        "test_data1 = test_data.astype('float32') / 255"
      ]
    },
    {
      "cell_type": "markdown",
      "metadata": {
        "id": "uv3-fn1mxmVs"
      },
      "source": [
        "#### Split Data into Train & Validation"
      ]
    },
    {
      "cell_type": "code",
      "execution_count": null,
      "metadata": {
        "id": "BWxseS4ZxmVt"
      },
      "outputs": [],
      "source": [
        "from sklearn.model_selection import train_test_split\n",
        "train_data2, val_data, train_label1, val_label = train_test_split(train_data1, train_labels_cat, test_size = 0.1, random_state=2)"
      ]
    },
    {
      "cell_type": "code",
      "execution_count": null,
      "metadata": {
        "colab": {
          "base_uri": "https://localhost:8080/"
        },
        "id": "99UyuyiZxmVv",
        "outputId": "234d66e5-bb23-42d1-cfbe-60becf74fd53"
      },
      "outputs": [
        {
          "output_type": "execute_result",
          "data": {
            "text/plain": [
              "(54000, 3136)"
            ]
          },
          "metadata": {},
          "execution_count": 72
        }
      ],
      "source": [
        "train_data2.shape"
      ]
    },
    {
      "cell_type": "code",
      "execution_count": null,
      "metadata": {
        "colab": {
          "base_uri": "https://localhost:8080/"
        },
        "id": "_KhijW8axmVv",
        "outputId": "e0da627a-373e-4d68-abd1-08f9f6808fef"
      },
      "outputs": [
        {
          "output_type": "execute_result",
          "data": {
            "text/plain": [
              "(54000, 10)"
            ]
          },
          "metadata": {},
          "execution_count": 73
        }
      ],
      "source": [
        "train_label1.shape"
      ]
    },
    {
      "cell_type": "code",
      "execution_count": null,
      "metadata": {
        "colab": {
          "base_uri": "https://localhost:8080/"
        },
        "id": "zG3VLxVDxmVw",
        "outputId": "27d56d96-d661-4547-c9f0-58b7db56b69c"
      },
      "outputs": [
        {
          "output_type": "execute_result",
          "data": {
            "text/plain": [
              "(6000, 3136)"
            ]
          },
          "metadata": {},
          "execution_count": 74
        }
      ],
      "source": [
        "val_data.shape"
      ]
    },
    {
      "cell_type": "markdown",
      "metadata": {
        "id": "Ig4gzfJBxmVx"
      },
      "source": [
        "#### ANN Classification"
      ]
    },
    {
      "cell_type": "code",
      "execution_count": null,
      "metadata": {
        "id": "huHMLF4QxmVx"
      },
      "outputs": [],
      "source": [
        "from tensorflow.keras.layers import Dense, Dropout\n",
        "from tensorflow.keras.models import Sequential\n",
        "# Optimizers \n",
        "from tensorflow.keras.optimizers import Adam"
      ]
    },
    {
      "cell_type": "code",
      "execution_count": null,
      "metadata": {
        "id": "rLDWhkRnxmVy"
      },
      "outputs": [],
      "source": [
        "def build_model():\n",
        "    # Sequential Neural Network - FeedForward NN\n",
        "    model = Sequential()\n",
        "    # Units = Num of Neurons(2 * pow(n)), input_shape = number of features.\n",
        "    model.add(Dense(units = 64, activation = 'relu', input_shape = [train_data2.shape[1]]))\n",
        "    model.add(Dropout(0.2))\n",
        "    # Hidden Layer - I\n",
        "    model.add(Dense(units = 128, activation = 'relu'))\n",
        "    model.add(Dropout(0.2))\n",
        "    # Hidden Layer - II\n",
        "    model.add(Dense(units = 256, activation = 'relu'))\n",
        "    model.add(Dropout(0.2))\n",
        "    # Output Layer \n",
        "    model.add(Dense(units = 10, activation = 'softmax'))\n",
        "    # Optimizers\n",
        "    optimizers = Adam(learning_rate = 0.001)\n",
        "    \n",
        "    # Model Compiler\n",
        "    model.compile(loss = 'categorical_crossentropy', optimizer = optimizers, metrics = ['accuracy'])\n",
        "    \n",
        "    return model"
      ]
    },
    {
      "cell_type": "code",
      "execution_count": null,
      "metadata": {
        "id": "rtRkUOmqxmVz"
      },
      "outputs": [],
      "source": [
        "model = build_model()"
      ]
    },
    {
      "cell_type": "code",
      "execution_count": null,
      "metadata": {
        "colab": {
          "base_uri": "https://localhost:8080/"
        },
        "id": "__OgMo96xmVz",
        "outputId": "90cd38a0-e548-4b15-fa97-4b328d03fb31",
        "scrolled": true
      },
      "outputs": [
        {
          "output_type": "stream",
          "name": "stdout",
          "text": [
            "Model: \"sequential\"\n",
            "_________________________________________________________________\n",
            " Layer (type)                Output Shape              Param #   \n",
            "=================================================================\n",
            " dense (Dense)               (None, 64)                200768    \n",
            "                                                                 \n",
            " dropout (Dropout)           (None, 64)                0         \n",
            "                                                                 \n",
            " dense_1 (Dense)             (None, 128)               8320      \n",
            "                                                                 \n",
            " dropout_1 (Dropout)         (None, 128)               0         \n",
            "                                                                 \n",
            " dense_2 (Dense)             (None, 256)               33024     \n",
            "                                                                 \n",
            " dropout_2 (Dropout)         (None, 256)               0         \n",
            "                                                                 \n",
            " dense_3 (Dense)             (None, 10)                2570      \n",
            "                                                                 \n",
            "=================================================================\n",
            "Total params: 244,682\n",
            "Trainable params: 244,682\n",
            "Non-trainable params: 0\n",
            "_________________________________________________________________\n"
          ]
        }
      ],
      "source": [
        "model.summary()"
      ]
    },
    {
      "cell_type": "code",
      "source": [
        "import time"
      ],
      "metadata": {
        "id": "vwrIfiuw2mR1"
      },
      "execution_count": null,
      "outputs": []
    },
    {
      "cell_type": "code",
      "execution_count": null,
      "metadata": {
        "colab": {
          "base_uri": "https://localhost:8080/"
        },
        "id": "k2cVuoW-xmVz",
        "outputId": "c4afea21-bb12-48ea-cd37-aa1931c45d38",
        "scrolled": true
      },
      "outputs": [
        {
          "output_type": "stream",
          "name": "stdout",
          "text": [
            "Epoch 1/50\n",
            "1688/1688 [==============================] - 10s 5ms/step - loss: 0.3923 - accuracy: 0.8797 - val_loss: 0.1758 - val_accuracy: 0.9477\n",
            "Epoch 2/50\n",
            "1688/1688 [==============================] - 9s 5ms/step - loss: 0.2394 - accuracy: 0.9278 - val_loss: 0.1426 - val_accuracy: 0.9553\n",
            "Epoch 3/50\n",
            "1688/1688 [==============================] - 8s 5ms/step - loss: 0.2033 - accuracy: 0.9396 - val_loss: 0.1377 - val_accuracy: 0.9568\n",
            "Epoch 4/50\n",
            "1688/1688 [==============================] - 9s 5ms/step - loss: 0.1859 - accuracy: 0.9456 - val_loss: 0.1274 - val_accuracy: 0.9600\n",
            "Epoch 5/50\n",
            "1688/1688 [==============================] - 9s 5ms/step - loss: 0.1718 - accuracy: 0.9498 - val_loss: 0.1198 - val_accuracy: 0.9625\n",
            "Epoch 6/50\n",
            "1688/1688 [==============================] - 9s 5ms/step - loss: 0.1641 - accuracy: 0.9509 - val_loss: 0.1123 - val_accuracy: 0.9653\n",
            "Epoch 7/50\n",
            "1688/1688 [==============================] - 8s 5ms/step - loss: 0.1543 - accuracy: 0.9529 - val_loss: 0.1317 - val_accuracy: 0.9605\n",
            "Epoch 8/50\n",
            "1688/1688 [==============================] - 9s 5ms/step - loss: 0.1509 - accuracy: 0.9539 - val_loss: 0.1116 - val_accuracy: 0.9675\n",
            "Epoch 9/50\n",
            "1688/1688 [==============================] - 9s 5ms/step - loss: 0.1407 - accuracy: 0.9580 - val_loss: 0.1161 - val_accuracy: 0.9640\n",
            "Epoch 10/50\n",
            "1688/1688 [==============================] - 9s 5ms/step - loss: 0.1355 - accuracy: 0.9594 - val_loss: 0.1047 - val_accuracy: 0.9687\n",
            "Epoch 11/50\n",
            "1688/1688 [==============================] - 8s 5ms/step - loss: 0.1354 - accuracy: 0.9589 - val_loss: 0.1084 - val_accuracy: 0.9675\n",
            "Epoch 12/50\n",
            "1688/1688 [==============================] - 9s 5ms/step - loss: 0.1291 - accuracy: 0.9604 - val_loss: 0.1009 - val_accuracy: 0.9708\n",
            "Epoch 13/50\n",
            "1688/1688 [==============================] - 9s 5ms/step - loss: 0.1285 - accuracy: 0.9613 - val_loss: 0.1054 - val_accuracy: 0.9700\n",
            "Epoch 14/50\n",
            "1688/1688 [==============================] - 10s 6ms/step - loss: 0.1270 - accuracy: 0.9623 - val_loss: 0.0933 - val_accuracy: 0.9708\n",
            "Epoch 15/50\n",
            "1688/1688 [==============================] - 9s 5ms/step - loss: 0.1259 - accuracy: 0.9626 - val_loss: 0.0956 - val_accuracy: 0.9720\n",
            "Epoch 16/50\n",
            "1688/1688 [==============================] - 9s 5ms/step - loss: 0.1181 - accuracy: 0.9643 - val_loss: 0.0998 - val_accuracy: 0.9700\n",
            "Epoch 17/50\n",
            "1688/1688 [==============================] - 9s 5ms/step - loss: 0.1224 - accuracy: 0.9632 - val_loss: 0.1000 - val_accuracy: 0.9707\n",
            "Epoch 18/50\n",
            "1688/1688 [==============================] - 9s 5ms/step - loss: 0.1186 - accuracy: 0.9636 - val_loss: 0.1004 - val_accuracy: 0.9708\n",
            "Epoch 19/50\n",
            "1688/1688 [==============================] - 9s 5ms/step - loss: 0.1167 - accuracy: 0.9656 - val_loss: 0.1024 - val_accuracy: 0.9678\n",
            "Epoch 20/50\n",
            "1688/1688 [==============================] - 8s 5ms/step - loss: 0.1156 - accuracy: 0.9641 - val_loss: 0.1064 - val_accuracy: 0.9692\n",
            "Epoch 21/50\n",
            "1688/1688 [==============================] - 9s 5ms/step - loss: 0.1132 - accuracy: 0.9656 - val_loss: 0.1004 - val_accuracy: 0.9685\n",
            "Epoch 22/50\n",
            "1688/1688 [==============================] - 9s 5ms/step - loss: 0.1119 - accuracy: 0.9663 - val_loss: 0.1015 - val_accuracy: 0.9713\n",
            "Epoch 23/50\n",
            "1688/1688 [==============================] - 9s 5ms/step - loss: 0.1147 - accuracy: 0.9652 - val_loss: 0.1021 - val_accuracy: 0.9702\n",
            "Epoch 24/50\n",
            "1688/1688 [==============================] - 9s 5ms/step - loss: 0.1126 - accuracy: 0.9670 - val_loss: 0.0945 - val_accuracy: 0.9727\n",
            "Epoch 25/50\n",
            "1688/1688 [==============================] - 9s 5ms/step - loss: 0.1095 - accuracy: 0.9669 - val_loss: 0.1001 - val_accuracy: 0.9733\n",
            "Epoch 26/50\n",
            "1688/1688 [==============================] - 8s 5ms/step - loss: 0.1115 - accuracy: 0.9671 - val_loss: 0.1029 - val_accuracy: 0.9733\n",
            "Epoch 27/50\n",
            "1688/1688 [==============================] - 9s 5ms/step - loss: 0.1081 - accuracy: 0.9677 - val_loss: 0.1012 - val_accuracy: 0.9720\n",
            "Epoch 28/50\n",
            "1688/1688 [==============================] - 9s 5ms/step - loss: 0.1091 - accuracy: 0.9667 - val_loss: 0.1091 - val_accuracy: 0.9710\n",
            "Epoch 29/50\n",
            "1688/1688 [==============================] - 9s 5ms/step - loss: 0.1067 - accuracy: 0.9676 - val_loss: 0.1017 - val_accuracy: 0.9715\n",
            "Epoch 30/50\n",
            "1688/1688 [==============================] - 9s 5ms/step - loss: 0.1016 - accuracy: 0.9691 - val_loss: 0.1086 - val_accuracy: 0.9720\n",
            "Epoch 31/50\n",
            "1688/1688 [==============================] - 8s 5ms/step - loss: 0.1047 - accuracy: 0.9684 - val_loss: 0.1061 - val_accuracy: 0.9707\n",
            "Epoch 32/50\n",
            "1688/1688 [==============================] - 9s 5ms/step - loss: 0.1032 - accuracy: 0.9689 - val_loss: 0.1031 - val_accuracy: 0.9733\n",
            "Epoch 33/50\n",
            "1688/1688 [==============================] - 9s 5ms/step - loss: 0.1010 - accuracy: 0.9684 - val_loss: 0.1039 - val_accuracy: 0.9723\n",
            "Epoch 34/50\n",
            "1688/1688 [==============================] - 9s 5ms/step - loss: 0.1045 - accuracy: 0.9679 - val_loss: 0.1130 - val_accuracy: 0.9700\n",
            "Epoch 35/50\n",
            "1688/1688 [==============================] - 9s 5ms/step - loss: 0.1050 - accuracy: 0.9676 - val_loss: 0.1086 - val_accuracy: 0.9705\n",
            "Epoch 36/50\n",
            "1688/1688 [==============================] - 9s 5ms/step - loss: 0.1060 - accuracy: 0.9686 - val_loss: 0.1134 - val_accuracy: 0.9690\n",
            "Epoch 37/50\n",
            "1688/1688 [==============================] - 8s 5ms/step - loss: 0.1000 - accuracy: 0.9693 - val_loss: 0.1067 - val_accuracy: 0.9712\n",
            "Epoch 38/50\n",
            "1688/1688 [==============================] - 9s 5ms/step - loss: 0.0983 - accuracy: 0.9702 - val_loss: 0.1158 - val_accuracy: 0.9702\n",
            "Epoch 39/50\n",
            "1688/1688 [==============================] - 9s 5ms/step - loss: 0.1010 - accuracy: 0.9703 - val_loss: 0.1101 - val_accuracy: 0.9713\n",
            "Epoch 40/50\n",
            "1688/1688 [==============================] - 9s 5ms/step - loss: 0.0999 - accuracy: 0.9698 - val_loss: 0.1044 - val_accuracy: 0.9702\n",
            "Epoch 41/50\n",
            "1688/1688 [==============================] - 9s 5ms/step - loss: 0.1001 - accuracy: 0.9698 - val_loss: 0.1133 - val_accuracy: 0.9722\n",
            "Epoch 42/50\n",
            "1688/1688 [==============================] - 9s 5ms/step - loss: 0.1005 - accuracy: 0.9701 - val_loss: 0.0998 - val_accuracy: 0.9717\n",
            "Epoch 43/50\n",
            "1688/1688 [==============================] - 9s 5ms/step - loss: 0.1007 - accuracy: 0.9693 - val_loss: 0.1026 - val_accuracy: 0.9723\n",
            "Epoch 44/50\n",
            "1688/1688 [==============================] - 9s 5ms/step - loss: 0.0986 - accuracy: 0.9702 - val_loss: 0.1124 - val_accuracy: 0.9692\n",
            "Epoch 45/50\n",
            "1688/1688 [==============================] - 9s 5ms/step - loss: 0.0972 - accuracy: 0.9707 - val_loss: 0.1130 - val_accuracy: 0.9722\n",
            "Epoch 46/50\n",
            "1688/1688 [==============================] - 9s 5ms/step - loss: 0.1010 - accuracy: 0.9699 - val_loss: 0.1127 - val_accuracy: 0.9703\n",
            "Epoch 47/50\n",
            "1688/1688 [==============================] - 9s 5ms/step - loss: 0.0959 - accuracy: 0.9712 - val_loss: 0.1071 - val_accuracy: 0.9733\n",
            "Epoch 48/50\n",
            "1688/1688 [==============================] - 9s 5ms/step - loss: 0.0982 - accuracy: 0.9703 - val_loss: 0.1200 - val_accuracy: 0.9708\n",
            "Epoch 49/50\n",
            "1688/1688 [==============================] - 9s 5ms/step - loss: 0.0965 - accuracy: 0.9711 - val_loss: 0.1094 - val_accuracy: 0.9712\n",
            "Epoch 50/50\n",
            "1688/1688 [==============================] - 9s 5ms/step - loss: 0.1006 - accuracy: 0.9712 - val_loss: 0.1081 - val_accuracy: 0.9700\n"
          ]
        }
      ],
      "source": [
        "start = time.time()\n",
        "history = model.fit(train_data2, train_label1, epochs = 50, batch_size = 32, validation_data = (val_data, val_label))\n",
        "stop = time.time()\n",
        "time_56 = stop - start"
      ]
    },
    {
      "cell_type": "code",
      "source": [
        "result_56 = model.evaluate(test_data1, test_labels_cat, batch_size=128)"
      ],
      "metadata": {
        "colab": {
          "base_uri": "https://localhost:8080/"
        },
        "id": "ONgK77sb6SKz",
        "outputId": "1d85a594-bf89-48e3-ba36-8d42599f36e8"
      },
      "execution_count": null,
      "outputs": [
        {
          "output_type": "stream",
          "name": "stdout",
          "text": [
            "79/79 [==============================] - 0s 4ms/step - loss: 0.1037 - accuracy: 0.9747\n"
          ]
        }
      ]
    },
    {
      "cell_type": "code",
      "source": [
        "time_56"
      ],
      "metadata": {
        "colab": {
          "base_uri": "https://localhost:8080/"
        },
        "id": "HncQTtco6iPn",
        "outputId": "0ae949eb-12ec-4440-bf21-cd7d746a1b9c"
      },
      "execution_count": null,
      "outputs": [
        {
          "output_type": "execute_result",
          "data": {
            "text/plain": [
              "442.8674762248993"
            ]
          },
          "metadata": {},
          "execution_count": 31
        }
      ]
    },
    {
      "cell_type": "code",
      "execution_count": null,
      "metadata": {
        "colab": {
          "base_uri": "https://localhost:8080/",
          "height": 1000
        },
        "id": "eyO7Zw3VxmV0",
        "outputId": "9925314a-02d5-4110-dd92-481d38861675"
      },
      "outputs": [
        {
          "output_type": "execute_result",
          "data": {
            "text/html": [
              "\n",
              "  <div id=\"df-6d27ecc9-b242-489f-81c6-1aa1590d47bb\">\n",
              "    <div class=\"colab-df-container\">\n",
              "      <div>\n",
              "<style scoped>\n",
              "    .dataframe tbody tr th:only-of-type {\n",
              "        vertical-align: middle;\n",
              "    }\n",
              "\n",
              "    .dataframe tbody tr th {\n",
              "        vertical-align: top;\n",
              "    }\n",
              "\n",
              "    .dataframe thead th {\n",
              "        text-align: right;\n",
              "    }\n",
              "</style>\n",
              "<table border=\"1\" class=\"dataframe\">\n",
              "  <thead>\n",
              "    <tr style=\"text-align: right;\">\n",
              "      <th></th>\n",
              "      <th>loss</th>\n",
              "      <th>accuracy</th>\n",
              "      <th>val_loss</th>\n",
              "      <th>val_accuracy</th>\n",
              "    </tr>\n",
              "  </thead>\n",
              "  <tbody>\n",
              "    <tr>\n",
              "      <th>0</th>\n",
              "      <td>0.392309</td>\n",
              "      <td>0.879704</td>\n",
              "      <td>0.175800</td>\n",
              "      <td>0.947667</td>\n",
              "    </tr>\n",
              "    <tr>\n",
              "      <th>1</th>\n",
              "      <td>0.239361</td>\n",
              "      <td>0.927796</td>\n",
              "      <td>0.142623</td>\n",
              "      <td>0.955333</td>\n",
              "    </tr>\n",
              "    <tr>\n",
              "      <th>2</th>\n",
              "      <td>0.203305</td>\n",
              "      <td>0.939611</td>\n",
              "      <td>0.137731</td>\n",
              "      <td>0.956833</td>\n",
              "    </tr>\n",
              "    <tr>\n",
              "      <th>3</th>\n",
              "      <td>0.185921</td>\n",
              "      <td>0.945593</td>\n",
              "      <td>0.127433</td>\n",
              "      <td>0.960000</td>\n",
              "    </tr>\n",
              "    <tr>\n",
              "      <th>4</th>\n",
              "      <td>0.171803</td>\n",
              "      <td>0.949833</td>\n",
              "      <td>0.119850</td>\n",
              "      <td>0.962500</td>\n",
              "    </tr>\n",
              "    <tr>\n",
              "      <th>5</th>\n",
              "      <td>0.164068</td>\n",
              "      <td>0.950944</td>\n",
              "      <td>0.112311</td>\n",
              "      <td>0.965333</td>\n",
              "    </tr>\n",
              "    <tr>\n",
              "      <th>6</th>\n",
              "      <td>0.154263</td>\n",
              "      <td>0.952907</td>\n",
              "      <td>0.131736</td>\n",
              "      <td>0.960500</td>\n",
              "    </tr>\n",
              "    <tr>\n",
              "      <th>7</th>\n",
              "      <td>0.150862</td>\n",
              "      <td>0.953907</td>\n",
              "      <td>0.111584</td>\n",
              "      <td>0.967500</td>\n",
              "    </tr>\n",
              "    <tr>\n",
              "      <th>8</th>\n",
              "      <td>0.140675</td>\n",
              "      <td>0.957963</td>\n",
              "      <td>0.116135</td>\n",
              "      <td>0.964000</td>\n",
              "    </tr>\n",
              "    <tr>\n",
              "      <th>9</th>\n",
              "      <td>0.135550</td>\n",
              "      <td>0.959426</td>\n",
              "      <td>0.104672</td>\n",
              "      <td>0.968667</td>\n",
              "    </tr>\n",
              "    <tr>\n",
              "      <th>10</th>\n",
              "      <td>0.135352</td>\n",
              "      <td>0.958926</td>\n",
              "      <td>0.108385</td>\n",
              "      <td>0.967500</td>\n",
              "    </tr>\n",
              "    <tr>\n",
              "      <th>11</th>\n",
              "      <td>0.129111</td>\n",
              "      <td>0.960407</td>\n",
              "      <td>0.100865</td>\n",
              "      <td>0.970833</td>\n",
              "    </tr>\n",
              "    <tr>\n",
              "      <th>12</th>\n",
              "      <td>0.128472</td>\n",
              "      <td>0.961333</td>\n",
              "      <td>0.105353</td>\n",
              "      <td>0.970000</td>\n",
              "    </tr>\n",
              "    <tr>\n",
              "      <th>13</th>\n",
              "      <td>0.126990</td>\n",
              "      <td>0.962278</td>\n",
              "      <td>0.093283</td>\n",
              "      <td>0.970833</td>\n",
              "    </tr>\n",
              "    <tr>\n",
              "      <th>14</th>\n",
              "      <td>0.125893</td>\n",
              "      <td>0.962574</td>\n",
              "      <td>0.095626</td>\n",
              "      <td>0.972000</td>\n",
              "    </tr>\n",
              "    <tr>\n",
              "      <th>15</th>\n",
              "      <td>0.118091</td>\n",
              "      <td>0.964278</td>\n",
              "      <td>0.099785</td>\n",
              "      <td>0.970000</td>\n",
              "    </tr>\n",
              "    <tr>\n",
              "      <th>16</th>\n",
              "      <td>0.122437</td>\n",
              "      <td>0.963167</td>\n",
              "      <td>0.099971</td>\n",
              "      <td>0.970667</td>\n",
              "    </tr>\n",
              "    <tr>\n",
              "      <th>17</th>\n",
              "      <td>0.118563</td>\n",
              "      <td>0.963593</td>\n",
              "      <td>0.100358</td>\n",
              "      <td>0.970833</td>\n",
              "    </tr>\n",
              "    <tr>\n",
              "      <th>18</th>\n",
              "      <td>0.116727</td>\n",
              "      <td>0.965556</td>\n",
              "      <td>0.102401</td>\n",
              "      <td>0.967833</td>\n",
              "    </tr>\n",
              "    <tr>\n",
              "      <th>19</th>\n",
              "      <td>0.115585</td>\n",
              "      <td>0.964111</td>\n",
              "      <td>0.106370</td>\n",
              "      <td>0.969167</td>\n",
              "    </tr>\n",
              "    <tr>\n",
              "      <th>20</th>\n",
              "      <td>0.113160</td>\n",
              "      <td>0.965593</td>\n",
              "      <td>0.100434</td>\n",
              "      <td>0.968500</td>\n",
              "    </tr>\n",
              "    <tr>\n",
              "      <th>21</th>\n",
              "      <td>0.111938</td>\n",
              "      <td>0.966333</td>\n",
              "      <td>0.101457</td>\n",
              "      <td>0.971333</td>\n",
              "    </tr>\n",
              "    <tr>\n",
              "      <th>22</th>\n",
              "      <td>0.114674</td>\n",
              "      <td>0.965185</td>\n",
              "      <td>0.102074</td>\n",
              "      <td>0.970167</td>\n",
              "    </tr>\n",
              "    <tr>\n",
              "      <th>23</th>\n",
              "      <td>0.112566</td>\n",
              "      <td>0.966981</td>\n",
              "      <td>0.094491</td>\n",
              "      <td>0.972667</td>\n",
              "    </tr>\n",
              "    <tr>\n",
              "      <th>24</th>\n",
              "      <td>0.109502</td>\n",
              "      <td>0.966852</td>\n",
              "      <td>0.100075</td>\n",
              "      <td>0.973333</td>\n",
              "    </tr>\n",
              "    <tr>\n",
              "      <th>25</th>\n",
              "      <td>0.111547</td>\n",
              "      <td>0.967111</td>\n",
              "      <td>0.102889</td>\n",
              "      <td>0.973333</td>\n",
              "    </tr>\n",
              "    <tr>\n",
              "      <th>26</th>\n",
              "      <td>0.108071</td>\n",
              "      <td>0.967722</td>\n",
              "      <td>0.101196</td>\n",
              "      <td>0.972000</td>\n",
              "    </tr>\n",
              "    <tr>\n",
              "      <th>27</th>\n",
              "      <td>0.109123</td>\n",
              "      <td>0.966741</td>\n",
              "      <td>0.109072</td>\n",
              "      <td>0.971000</td>\n",
              "    </tr>\n",
              "    <tr>\n",
              "      <th>28</th>\n",
              "      <td>0.106719</td>\n",
              "      <td>0.967648</td>\n",
              "      <td>0.101678</td>\n",
              "      <td>0.971500</td>\n",
              "    </tr>\n",
              "    <tr>\n",
              "      <th>29</th>\n",
              "      <td>0.101649</td>\n",
              "      <td>0.969130</td>\n",
              "      <td>0.108607</td>\n",
              "      <td>0.972000</td>\n",
              "    </tr>\n",
              "    <tr>\n",
              "      <th>30</th>\n",
              "      <td>0.104693</td>\n",
              "      <td>0.968426</td>\n",
              "      <td>0.106103</td>\n",
              "      <td>0.970667</td>\n",
              "    </tr>\n",
              "    <tr>\n",
              "      <th>31</th>\n",
              "      <td>0.103171</td>\n",
              "      <td>0.968889</td>\n",
              "      <td>0.103058</td>\n",
              "      <td>0.973333</td>\n",
              "    </tr>\n",
              "    <tr>\n",
              "      <th>32</th>\n",
              "      <td>0.100979</td>\n",
              "      <td>0.968407</td>\n",
              "      <td>0.103939</td>\n",
              "      <td>0.972333</td>\n",
              "    </tr>\n",
              "    <tr>\n",
              "      <th>33</th>\n",
              "      <td>0.104547</td>\n",
              "      <td>0.967870</td>\n",
              "      <td>0.112973</td>\n",
              "      <td>0.970000</td>\n",
              "    </tr>\n",
              "    <tr>\n",
              "      <th>34</th>\n",
              "      <td>0.104954</td>\n",
              "      <td>0.967574</td>\n",
              "      <td>0.108563</td>\n",
              "      <td>0.970500</td>\n",
              "    </tr>\n",
              "    <tr>\n",
              "      <th>35</th>\n",
              "      <td>0.106038</td>\n",
              "      <td>0.968574</td>\n",
              "      <td>0.113369</td>\n",
              "      <td>0.969000</td>\n",
              "    </tr>\n",
              "    <tr>\n",
              "      <th>36</th>\n",
              "      <td>0.099989</td>\n",
              "      <td>0.969259</td>\n",
              "      <td>0.106739</td>\n",
              "      <td>0.971167</td>\n",
              "    </tr>\n",
              "    <tr>\n",
              "      <th>37</th>\n",
              "      <td>0.098313</td>\n",
              "      <td>0.970241</td>\n",
              "      <td>0.115814</td>\n",
              "      <td>0.970167</td>\n",
              "    </tr>\n",
              "    <tr>\n",
              "      <th>38</th>\n",
              "      <td>0.100971</td>\n",
              "      <td>0.970296</td>\n",
              "      <td>0.110095</td>\n",
              "      <td>0.971333</td>\n",
              "    </tr>\n",
              "    <tr>\n",
              "      <th>39</th>\n",
              "      <td>0.099860</td>\n",
              "      <td>0.969796</td>\n",
              "      <td>0.104378</td>\n",
              "      <td>0.970167</td>\n",
              "    </tr>\n",
              "    <tr>\n",
              "      <th>40</th>\n",
              "      <td>0.100103</td>\n",
              "      <td>0.969759</td>\n",
              "      <td>0.113297</td>\n",
              "      <td>0.972167</td>\n",
              "    </tr>\n",
              "    <tr>\n",
              "      <th>41</th>\n",
              "      <td>0.100545</td>\n",
              "      <td>0.970093</td>\n",
              "      <td>0.099782</td>\n",
              "      <td>0.971667</td>\n",
              "    </tr>\n",
              "    <tr>\n",
              "      <th>42</th>\n",
              "      <td>0.100692</td>\n",
              "      <td>0.969278</td>\n",
              "      <td>0.102571</td>\n",
              "      <td>0.972333</td>\n",
              "    </tr>\n",
              "    <tr>\n",
              "      <th>43</th>\n",
              "      <td>0.098593</td>\n",
              "      <td>0.970185</td>\n",
              "      <td>0.112442</td>\n",
              "      <td>0.969167</td>\n",
              "    </tr>\n",
              "    <tr>\n",
              "      <th>44</th>\n",
              "      <td>0.097151</td>\n",
              "      <td>0.970685</td>\n",
              "      <td>0.112970</td>\n",
              "      <td>0.972167</td>\n",
              "    </tr>\n",
              "    <tr>\n",
              "      <th>45</th>\n",
              "      <td>0.100957</td>\n",
              "      <td>0.969852</td>\n",
              "      <td>0.112690</td>\n",
              "      <td>0.970333</td>\n",
              "    </tr>\n",
              "    <tr>\n",
              "      <th>46</th>\n",
              "      <td>0.095874</td>\n",
              "      <td>0.971167</td>\n",
              "      <td>0.107128</td>\n",
              "      <td>0.973333</td>\n",
              "    </tr>\n",
              "    <tr>\n",
              "      <th>47</th>\n",
              "      <td>0.098162</td>\n",
              "      <td>0.970296</td>\n",
              "      <td>0.119953</td>\n",
              "      <td>0.970833</td>\n",
              "    </tr>\n",
              "    <tr>\n",
              "      <th>48</th>\n",
              "      <td>0.096540</td>\n",
              "      <td>0.971093</td>\n",
              "      <td>0.109369</td>\n",
              "      <td>0.971167</td>\n",
              "    </tr>\n",
              "    <tr>\n",
              "      <th>49</th>\n",
              "      <td>0.100603</td>\n",
              "      <td>0.971241</td>\n",
              "      <td>0.108072</td>\n",
              "      <td>0.970000</td>\n",
              "    </tr>\n",
              "  </tbody>\n",
              "</table>\n",
              "</div>\n",
              "      <button class=\"colab-df-convert\" onclick=\"convertToInteractive('df-6d27ecc9-b242-489f-81c6-1aa1590d47bb')\"\n",
              "              title=\"Convert this dataframe to an interactive table.\"\n",
              "              style=\"display:none;\">\n",
              "        \n",
              "  <svg xmlns=\"http://www.w3.org/2000/svg\" height=\"24px\"viewBox=\"0 0 24 24\"\n",
              "       width=\"24px\">\n",
              "    <path d=\"M0 0h24v24H0V0z\" fill=\"none\"/>\n",
              "    <path d=\"M18.56 5.44l.94 2.06.94-2.06 2.06-.94-2.06-.94-.94-2.06-.94 2.06-2.06.94zm-11 1L8.5 8.5l.94-2.06 2.06-.94-2.06-.94L8.5 2.5l-.94 2.06-2.06.94zm10 10l.94 2.06.94-2.06 2.06-.94-2.06-.94-.94-2.06-.94 2.06-2.06.94z\"/><path d=\"M17.41 7.96l-1.37-1.37c-.4-.4-.92-.59-1.43-.59-.52 0-1.04.2-1.43.59L10.3 9.45l-7.72 7.72c-.78.78-.78 2.05 0 2.83L4 21.41c.39.39.9.59 1.41.59.51 0 1.02-.2 1.41-.59l7.78-7.78 2.81-2.81c.8-.78.8-2.07 0-2.86zM5.41 20L4 18.59l7.72-7.72 1.47 1.35L5.41 20z\"/>\n",
              "  </svg>\n",
              "      </button>\n",
              "      \n",
              "  <style>\n",
              "    .colab-df-container {\n",
              "      display:flex;\n",
              "      flex-wrap:wrap;\n",
              "      gap: 12px;\n",
              "    }\n",
              "\n",
              "    .colab-df-convert {\n",
              "      background-color: #E8F0FE;\n",
              "      border: none;\n",
              "      border-radius: 50%;\n",
              "      cursor: pointer;\n",
              "      display: none;\n",
              "      fill: #1967D2;\n",
              "      height: 32px;\n",
              "      padding: 0 0 0 0;\n",
              "      width: 32px;\n",
              "    }\n",
              "\n",
              "    .colab-df-convert:hover {\n",
              "      background-color: #E2EBFA;\n",
              "      box-shadow: 0px 1px 2px rgba(60, 64, 67, 0.3), 0px 1px 3px 1px rgba(60, 64, 67, 0.15);\n",
              "      fill: #174EA6;\n",
              "    }\n",
              "\n",
              "    [theme=dark] .colab-df-convert {\n",
              "      background-color: #3B4455;\n",
              "      fill: #D2E3FC;\n",
              "    }\n",
              "\n",
              "    [theme=dark] .colab-df-convert:hover {\n",
              "      background-color: #434B5C;\n",
              "      box-shadow: 0px 1px 3px 1px rgba(0, 0, 0, 0.15);\n",
              "      filter: drop-shadow(0px 1px 2px rgba(0, 0, 0, 0.3));\n",
              "      fill: #FFFFFF;\n",
              "    }\n",
              "  </style>\n",
              "\n",
              "      <script>\n",
              "        const buttonEl =\n",
              "          document.querySelector('#df-6d27ecc9-b242-489f-81c6-1aa1590d47bb button.colab-df-convert');\n",
              "        buttonEl.style.display =\n",
              "          google.colab.kernel.accessAllowed ? 'block' : 'none';\n",
              "\n",
              "        async function convertToInteractive(key) {\n",
              "          const element = document.querySelector('#df-6d27ecc9-b242-489f-81c6-1aa1590d47bb');\n",
              "          const dataTable =\n",
              "            await google.colab.kernel.invokeFunction('convertToInteractive',\n",
              "                                                     [key], {});\n",
              "          if (!dataTable) return;\n",
              "\n",
              "          const docLinkHtml = 'Like what you see? Visit the ' +\n",
              "            '<a target=\"_blank\" href=https://colab.research.google.com/notebooks/data_table.ipynb>data table notebook</a>'\n",
              "            + ' to learn more about interactive tables.';\n",
              "          element.innerHTML = '';\n",
              "          dataTable['output_type'] = 'display_data';\n",
              "          await google.colab.output.renderOutput(dataTable, element);\n",
              "          const docLink = document.createElement('div');\n",
              "          docLink.innerHTML = docLinkHtml;\n",
              "          element.appendChild(docLink);\n",
              "        }\n",
              "      </script>\n",
              "    </div>\n",
              "  </div>\n",
              "  "
            ],
            "text/plain": [
              "        loss  accuracy  val_loss  val_accuracy\n",
              "0   0.392309  0.879704  0.175800      0.947667\n",
              "1   0.239361  0.927796  0.142623      0.955333\n",
              "2   0.203305  0.939611  0.137731      0.956833\n",
              "3   0.185921  0.945593  0.127433      0.960000\n",
              "4   0.171803  0.949833  0.119850      0.962500\n",
              "5   0.164068  0.950944  0.112311      0.965333\n",
              "6   0.154263  0.952907  0.131736      0.960500\n",
              "7   0.150862  0.953907  0.111584      0.967500\n",
              "8   0.140675  0.957963  0.116135      0.964000\n",
              "9   0.135550  0.959426  0.104672      0.968667\n",
              "10  0.135352  0.958926  0.108385      0.967500\n",
              "11  0.129111  0.960407  0.100865      0.970833\n",
              "12  0.128472  0.961333  0.105353      0.970000\n",
              "13  0.126990  0.962278  0.093283      0.970833\n",
              "14  0.125893  0.962574  0.095626      0.972000\n",
              "15  0.118091  0.964278  0.099785      0.970000\n",
              "16  0.122437  0.963167  0.099971      0.970667\n",
              "17  0.118563  0.963593  0.100358      0.970833\n",
              "18  0.116727  0.965556  0.102401      0.967833\n",
              "19  0.115585  0.964111  0.106370      0.969167\n",
              "20  0.113160  0.965593  0.100434      0.968500\n",
              "21  0.111938  0.966333  0.101457      0.971333\n",
              "22  0.114674  0.965185  0.102074      0.970167\n",
              "23  0.112566  0.966981  0.094491      0.972667\n",
              "24  0.109502  0.966852  0.100075      0.973333\n",
              "25  0.111547  0.967111  0.102889      0.973333\n",
              "26  0.108071  0.967722  0.101196      0.972000\n",
              "27  0.109123  0.966741  0.109072      0.971000\n",
              "28  0.106719  0.967648  0.101678      0.971500\n",
              "29  0.101649  0.969130  0.108607      0.972000\n",
              "30  0.104693  0.968426  0.106103      0.970667\n",
              "31  0.103171  0.968889  0.103058      0.973333\n",
              "32  0.100979  0.968407  0.103939      0.972333\n",
              "33  0.104547  0.967870  0.112973      0.970000\n",
              "34  0.104954  0.967574  0.108563      0.970500\n",
              "35  0.106038  0.968574  0.113369      0.969000\n",
              "36  0.099989  0.969259  0.106739      0.971167\n",
              "37  0.098313  0.970241  0.115814      0.970167\n",
              "38  0.100971  0.970296  0.110095      0.971333\n",
              "39  0.099860  0.969796  0.104378      0.970167\n",
              "40  0.100103  0.969759  0.113297      0.972167\n",
              "41  0.100545  0.970093  0.099782      0.971667\n",
              "42  0.100692  0.969278  0.102571      0.972333\n",
              "43  0.098593  0.970185  0.112442      0.969167\n",
              "44  0.097151  0.970685  0.112970      0.972167\n",
              "45  0.100957  0.969852  0.112690      0.970333\n",
              "46  0.095874  0.971167  0.107128      0.973333\n",
              "47  0.098162  0.970296  0.119953      0.970833\n",
              "48  0.096540  0.971093  0.109369      0.971167\n",
              "49  0.100603  0.971241  0.108072      0.970000"
            ]
          },
          "metadata": {},
          "execution_count": 25
        }
      ],
      "source": [
        "pd.DataFrame(history.history)"
      ]
    },
    {
      "cell_type": "code",
      "execution_count": null,
      "metadata": {
        "colab": {
          "base_uri": "https://localhost:8080/",
          "height": 265
        },
        "id": "bpWkrQalxmV1",
        "outputId": "2e283cae-5a6a-4e90-b3e1-32f92cb59acd"
      },
      "outputs": [
        {
          "output_type": "display_data",
          "data": {
            "image/png": "[encoded data removed]",
            "text/plain": [
              "<Figure size 432x288 with 1 Axes>"
            ]
          },
          "metadata": {}
        }
      ],
      "source": [
        "sns.set_style('darkgrid')\n",
        "pd.DataFrame(history.history)[['accuracy', 'val_accuracy']].plot()\n",
        "plt.show()"
      ]
    },
    {
      "cell_type": "code",
      "execution_count": null,
      "metadata": {
        "colab": {
          "base_uri": "https://localhost:8080/",
          "height": 265
        },
        "id": "EVli2QILxmV1",
        "outputId": "6e4259e1-57ba-4a93-c792-189a0516db69"
      },
      "outputs": [
        {
          "output_type": "display_data",
          "data": {
            "image/png": "[encoded data removed]",
            "text/plain": [
              "<Figure size 432x288 with 1 Axes>"
            ]
          },
          "metadata": {}
        }
      ],
      "source": [
        "pd.DataFrame(history.history)[['loss', 'val_loss']].plot()\n",
        "plt.show()"
      ]
    },
    {
      "cell_type": "markdown",
      "source": [
        "# 28x28"
      ],
      "metadata": {
        "id": "teEbr4B09Aa7"
      }
    },
    {
      "cell_type": "code",
      "source": [
        "# Download image data\n",
        "(train_digits, train_labels), (test_digits, test_labels) = load_data()"
      ],
      "metadata": {
        "id": "fG4vr7Gf8_n8"
      },
      "execution_count": null,
      "outputs": []
    },
    {
      "cell_type": "code",
      "source": [
        "# Num of Samples = 60000, shape of Image = 28x28 (Height x Width)\n",
        "train_digits.shape"
      ],
      "metadata": {
        "colab": {
          "base_uri": "https://localhost:8080/"
        },
        "id": "6PbydiM47B4l",
        "outputId": "be652222-d2b3-4299-cf92-20325713d497"
      },
      "execution_count": null,
      "outputs": [
        {
          "output_type": "execute_result",
          "data": {
            "text/plain": [
              "(60000, 28, 28)"
            ]
          },
          "metadata": {},
          "execution_count": 76
        }
      ]
    },
    {
      "cell_type": "code",
      "source": [
        "test_digits.shape"
      ],
      "metadata": {
        "colab": {
          "base_uri": "https://localhost:8080/"
        },
        "id": "do3Mhf9k9Rey",
        "outputId": "3bf440fb-894e-40eb-d5e5-05dcf0baae97"
      },
      "execution_count": null,
      "outputs": [
        {
          "output_type": "execute_result",
          "data": {
            "text/plain": [
              "(10000, 28, 28)"
            ]
          },
          "metadata": {},
          "execution_count": 77
        }
      ]
    },
    {
      "cell_type": "code",
      "source": [
        "plt.figure(figsize = (20,4))\n",
        "\n",
        "for index, (image,label) in enumerate(zip(train_digits[0:5], train_labels[0:5])):\n",
        "    plt.subplot(1, 5, index+1)\n",
        "    # This convert arrays into images\n",
        "    plt.imshow(np.reshape(image, (28,28)), cmap = 'gray')\n",
        "    plt.title(\"Label %i\" %label, fontsize = 12)\n",
        "plt.show()"
      ],
      "metadata": {
        "colab": {
          "base_uri": "https://localhost:8080/",
          "height": 256
        },
        "id": "Kkv-rVe49aBJ",
        "outputId": "ff747534-db6f-4a1d-a664-74e22a30c0f0"
      },
      "execution_count": null,
      "outputs": [
        {
          "output_type": "display_data",
          "data": {
            "image/png": "[encoded data removed]",
            "text/plain": [
              "<Figure size 1440x288 with 5 Axes>"
            ]
          },
          "metadata": {}
        }
      ]
    },
    {
      "cell_type": "code",
      "source": [
        "pd.Series(train_labels).unique()"
      ],
      "metadata": {
        "colab": {
          "base_uri": "https://localhost:8080/"
        },
        "id": "h7lcEYIp95TS",
        "outputId": "b15d261f-7b35-4571-ebc6-9ad714878bae"
      },
      "execution_count": null,
      "outputs": [
        {
          "output_type": "execute_result",
          "data": {
            "text/plain": [
              "array([5, 0, 4, 1, 9, 2, 3, 6, 7, 8], dtype=uint8)"
            ]
          },
          "metadata": {},
          "execution_count": 81
        }
      ]
    },
    {
      "cell_type": "code",
      "source": [
        "# For multi-class use one-hot encoding\n",
        "from tensorflow.keras.utils import to_categorical\n",
        "num_classes = 10\n",
        "train_labels_cat = to_categorical(train_labels, num_classes)\n",
        "test_labels_cat = to_categorical(test_labels, num_classes)"
      ],
      "metadata": {
        "id": "yi-H7E-u9eDZ"
      },
      "execution_count": null,
      "outputs": []
    },
    {
      "cell_type": "code",
      "source": [
        "train_labels_cat[0]"
      ],
      "metadata": {
        "colab": {
          "base_uri": "https://localhost:8080/"
        },
        "id": "kwrBN0tz9mQ5",
        "outputId": "e495064f-7251-43d3-c88d-5643ecb50e3e"
      },
      "execution_count": null,
      "outputs": [
        {
          "output_type": "execute_result",
          "data": {
            "text/plain": [
              "array([0., 0., 0., 0., 0., 1., 0., 0., 0., 0.], dtype=float32)"
            ]
          },
          "metadata": {},
          "execution_count": 80
        }
      ]
    },
    {
      "cell_type": "code",
      "source": [
        "train_data = train_digits.reshape(60000, 784)\n",
        "test_data = test_digits.reshape(10000, 784)"
      ],
      "metadata": {
        "id": "naPAJiKi9mel"
      },
      "execution_count": null,
      "outputs": []
    },
    {
      "cell_type": "code",
      "source": [
        "train_data1 = train_data.astype('float32') / 255\n",
        "test_data1 = test_data.astype('float32') / 255"
      ],
      "metadata": {
        "id": "GFOv8GdK9mrC"
      },
      "execution_count": null,
      "outputs": []
    },
    {
      "cell_type": "code",
      "source": [
        "from sklearn.model_selection import train_test_split\n",
        "train_data2, val_data, train_label1, val_label = train_test_split(train_data1, train_labels_cat, test_size = 0.1, random_state=2)"
      ],
      "metadata": {
        "id": "f9whrw2-9m2G"
      },
      "execution_count": null,
      "outputs": []
    },
    {
      "cell_type": "code",
      "source": [
        "train_data2.shape"
      ],
      "metadata": {
        "colab": {
          "base_uri": "https://localhost:8080/"
        },
        "id": "5g2QhCZ2-lg1",
        "outputId": "4e898428-a3ab-42e3-af4f-490b2fb41b9e"
      },
      "execution_count": null,
      "outputs": [
        {
          "output_type": "execute_result",
          "data": {
            "text/plain": [
              "(54000, 784)"
            ]
          },
          "metadata": {},
          "execution_count": 86
        }
      ]
    },
    {
      "cell_type": "code",
      "source": [
        "train_label1.shape"
      ],
      "metadata": {
        "colab": {
          "base_uri": "https://localhost:8080/"
        },
        "id": "LE_xkyi7-lrR",
        "outputId": "def18dca-b9d5-4a7c-a59f-13108a7e17b2"
      },
      "execution_count": null,
      "outputs": [
        {
          "output_type": "execute_result",
          "data": {
            "text/plain": [
              "(54000, 10)"
            ]
          },
          "metadata": {},
          "execution_count": 87
        }
      ]
    },
    {
      "cell_type": "code",
      "source": [
        "val_data.shape"
      ],
      "metadata": {
        "colab": {
          "base_uri": "https://localhost:8080/"
        },
        "id": "mrPAyU-6-lwA",
        "outputId": "2cdcc420-154a-416c-ce6f-b1d77e4c25f4"
      },
      "execution_count": null,
      "outputs": [
        {
          "output_type": "execute_result",
          "data": {
            "text/plain": [
              "(6000, 784)"
            ]
          },
          "metadata": {},
          "execution_count": 88
        }
      ]
    },
    {
      "cell_type": "code",
      "source": [
        "model = build_model()"
      ],
      "metadata": {
        "id": "Fk7ummTf_Q_h"
      },
      "execution_count": null,
      "outputs": []
    },
    {
      "cell_type": "code",
      "source": [
        "start = time.time()\n",
        "history = model.fit(train_data2, train_label1, epochs = 50, batch_size = 32, validation_data = (val_data, val_label))\n",
        "stop = time.time()\n",
        "time_28 = stop - start"
      ],
      "metadata": {
        "colab": {
          "base_uri": "https://localhost:8080/"
        },
        "id": "ITMfrvGk-lzV",
        "outputId": "d14a2495-80e8-4ab0-94e5-97a8eb698ce1"
      },
      "execution_count": null,
      "outputs": [
        {
          "output_type": "stream",
          "name": "stdout",
          "text": [
            "Epoch 1/50\n",
            "1688/1688 [==============================] - 7s 4ms/step - loss: 0.3821 - accuracy: 0.8823 - val_loss: 0.1630 - val_accuracy: 0.9518\n",
            "Epoch 2/50\n",
            "1688/1688 [==============================] - 6s 4ms/step - loss: 0.2058 - accuracy: 0.9384 - val_loss: 0.1323 - val_accuracy: 0.9583\n",
            "Epoch 3/50\n",
            "1688/1688 [==============================] - 6s 4ms/step - loss: 0.1721 - accuracy: 0.9490 - val_loss: 0.1150 - val_accuracy: 0.9652\n",
            "Epoch 4/50\n",
            "1688/1688 [==============================] - 8s 5ms/step - loss: 0.1528 - accuracy: 0.9539 - val_loss: 0.1075 - val_accuracy: 0.9663\n",
            "Epoch 5/50\n",
            "1688/1688 [==============================] - 8s 5ms/step - loss: 0.1394 - accuracy: 0.9574 - val_loss: 0.1016 - val_accuracy: 0.9690\n",
            "Epoch 6/50\n",
            "1688/1688 [==============================] - 9s 5ms/step - loss: 0.1293 - accuracy: 0.9601 - val_loss: 0.0960 - val_accuracy: 0.9710\n",
            "Epoch 7/50\n",
            "1688/1688 [==============================] - 8s 5ms/step - loss: 0.1208 - accuracy: 0.9621 - val_loss: 0.0977 - val_accuracy: 0.9718\n",
            "Epoch 8/50\n",
            "1688/1688 [==============================] - 7s 4ms/step - loss: 0.1149 - accuracy: 0.9653 - val_loss: 0.0860 - val_accuracy: 0.9732\n",
            "Epoch 9/50\n",
            "1688/1688 [==============================] - 6s 4ms/step - loss: 0.1061 - accuracy: 0.9677 - val_loss: 0.0943 - val_accuracy: 0.9700\n",
            "Epoch 10/50\n",
            "1688/1688 [==============================] - 8s 5ms/step - loss: 0.1057 - accuracy: 0.9673 - val_loss: 0.0849 - val_accuracy: 0.9732\n",
            "Epoch 11/50\n",
            "1688/1688 [==============================] - 9s 5ms/step - loss: 0.0991 - accuracy: 0.9689 - val_loss: 0.0925 - val_accuracy: 0.9733\n",
            "Epoch 12/50\n",
            "1688/1688 [==============================] - 6s 4ms/step - loss: 0.0945 - accuracy: 0.9703 - val_loss: 0.0827 - val_accuracy: 0.9750\n",
            "Epoch 13/50\n",
            "1688/1688 [==============================] - 6s 4ms/step - loss: 0.0923 - accuracy: 0.9709 - val_loss: 0.0809 - val_accuracy: 0.9772\n",
            "Epoch 14/50\n",
            "1688/1688 [==============================] - 6s 4ms/step - loss: 0.0927 - accuracy: 0.9711 - val_loss: 0.0868 - val_accuracy: 0.9765\n",
            "Epoch 15/50\n",
            "1688/1688 [==============================] - 6s 4ms/step - loss: 0.0895 - accuracy: 0.9726 - val_loss: 0.0880 - val_accuracy: 0.9753\n",
            "Epoch 16/50\n",
            "1688/1688 [==============================] - 8s 4ms/step - loss: 0.0853 - accuracy: 0.9732 - val_loss: 0.0790 - val_accuracy: 0.9770\n",
            "Epoch 17/50\n",
            "1688/1688 [==============================] - 6s 4ms/step - loss: 0.0867 - accuracy: 0.9738 - val_loss: 0.0968 - val_accuracy: 0.9725\n",
            "Epoch 18/50\n",
            "1688/1688 [==============================] - 6s 4ms/step - loss: 0.0817 - accuracy: 0.9746 - val_loss: 0.0923 - val_accuracy: 0.9740\n",
            "Epoch 19/50\n",
            "1688/1688 [==============================] - 6s 4ms/step - loss: 0.0808 - accuracy: 0.9746 - val_loss: 0.0870 - val_accuracy: 0.9762\n",
            "Epoch 20/50\n",
            "1688/1688 [==============================] - 7s 4ms/step - loss: 0.0778 - accuracy: 0.9755 - val_loss: 0.0914 - val_accuracy: 0.9743\n",
            "Epoch 21/50\n",
            "1688/1688 [==============================] - 6s 4ms/step - loss: 0.0771 - accuracy: 0.9756 - val_loss: 0.0833 - val_accuracy: 0.9772\n",
            "Epoch 22/50\n",
            "1688/1688 [==============================] - 6s 4ms/step - loss: 0.0769 - accuracy: 0.9751 - val_loss: 0.0814 - val_accuracy: 0.9765\n",
            "Epoch 23/50\n",
            "1688/1688 [==============================] - 7s 4ms/step - loss: 0.0743 - accuracy: 0.9767 - val_loss: 0.0738 - val_accuracy: 0.9802\n",
            "Epoch 24/50\n",
            "1688/1688 [==============================] - 6s 4ms/step - loss: 0.0743 - accuracy: 0.9773 - val_loss: 0.0810 - val_accuracy: 0.9765\n",
            "Epoch 25/50\n",
            "1688/1688 [==============================] - 6s 4ms/step - loss: 0.0727 - accuracy: 0.9774 - val_loss: 0.0829 - val_accuracy: 0.9773\n",
            "Epoch 26/50\n",
            "1688/1688 [==============================] - 6s 4ms/step - loss: 0.0727 - accuracy: 0.9775 - val_loss: 0.0850 - val_accuracy: 0.9757\n",
            "Epoch 27/50\n",
            "1688/1688 [==============================] - 6s 4ms/step - loss: 0.0724 - accuracy: 0.9775 - val_loss: 0.0860 - val_accuracy: 0.9757\n",
            "Epoch 28/50\n",
            "1688/1688 [==============================] - 6s 4ms/step - loss: 0.0722 - accuracy: 0.9771 - val_loss: 0.0894 - val_accuracy: 0.9770\n",
            "Epoch 29/50\n",
            "1688/1688 [==============================] - 6s 4ms/step - loss: 0.0691 - accuracy: 0.9780 - val_loss: 0.0848 - val_accuracy: 0.9775\n",
            "Epoch 30/50\n",
            "1688/1688 [==============================] - 6s 4ms/step - loss: 0.0670 - accuracy: 0.9787 - val_loss: 0.0828 - val_accuracy: 0.9777\n",
            "Epoch 31/50\n",
            "1688/1688 [==============================] - 6s 4ms/step - loss: 0.0657 - accuracy: 0.9801 - val_loss: 0.0821 - val_accuracy: 0.9772\n",
            "Epoch 32/50\n",
            "1688/1688 [==============================] - 6s 4ms/step - loss: 0.0710 - accuracy: 0.9787 - val_loss: 0.0770 - val_accuracy: 0.9773\n",
            "Epoch 33/50\n",
            "1688/1688 [==============================] - 6s 4ms/step - loss: 0.0644 - accuracy: 0.9800 - val_loss: 0.0795 - val_accuracy: 0.9778\n",
            "Epoch 34/50\n",
            "1688/1688 [==============================] - 6s 4ms/step - loss: 0.0668 - accuracy: 0.9790 - val_loss: 0.0819 - val_accuracy: 0.9765\n",
            "Epoch 35/50\n",
            "1688/1688 [==============================] - 6s 4ms/step - loss: 0.0660 - accuracy: 0.9802 - val_loss: 0.0775 - val_accuracy: 0.9775\n",
            "Epoch 36/50\n",
            "1688/1688 [==============================] - 6s 4ms/step - loss: 0.0636 - accuracy: 0.9804 - val_loss: 0.0828 - val_accuracy: 0.9773\n",
            "Epoch 37/50\n",
            "1688/1688 [==============================] - 6s 3ms/step - loss: 0.0657 - accuracy: 0.9801 - val_loss: 0.0832 - val_accuracy: 0.9768\n",
            "Epoch 38/50\n",
            "1688/1688 [==============================] - 6s 4ms/step - loss: 0.0649 - accuracy: 0.9800 - val_loss: 0.0881 - val_accuracy: 0.9770\n",
            "Epoch 39/50\n",
            "1688/1688 [==============================] - 6s 4ms/step - loss: 0.0632 - accuracy: 0.9806 - val_loss: 0.0839 - val_accuracy: 0.9768\n",
            "Epoch 40/50\n",
            "1688/1688 [==============================] - 6s 4ms/step - loss: 0.0645 - accuracy: 0.9802 - val_loss: 0.0873 - val_accuracy: 0.9782\n",
            "Epoch 41/50\n",
            "1688/1688 [==============================] - 7s 4ms/step - loss: 0.0632 - accuracy: 0.9799 - val_loss: 0.0855 - val_accuracy: 0.9778\n",
            "Epoch 42/50\n",
            "1688/1688 [==============================] - 6s 4ms/step - loss: 0.0605 - accuracy: 0.9816 - val_loss: 0.0856 - val_accuracy: 0.9777\n",
            "Epoch 43/50\n",
            "1688/1688 [==============================] - 6s 4ms/step - loss: 0.0586 - accuracy: 0.9815 - val_loss: 0.0831 - val_accuracy: 0.9795\n",
            "Epoch 44/50\n",
            "1688/1688 [==============================] - 6s 3ms/step - loss: 0.0638 - accuracy: 0.9802 - val_loss: 0.0821 - val_accuracy: 0.9792\n",
            "Epoch 45/50\n",
            "1688/1688 [==============================] - 6s 4ms/step - loss: 0.0602 - accuracy: 0.9808 - val_loss: 0.0808 - val_accuracy: 0.9780\n",
            "Epoch 46/50\n",
            "1688/1688 [==============================] - 6s 4ms/step - loss: 0.0619 - accuracy: 0.9810 - val_loss: 0.0836 - val_accuracy: 0.9783\n",
            "Epoch 47/50\n",
            "1688/1688 [==============================] - 6s 4ms/step - loss: 0.0600 - accuracy: 0.9815 - val_loss: 0.0810 - val_accuracy: 0.9790\n",
            "Epoch 48/50\n",
            "1688/1688 [==============================] - 6s 4ms/step - loss: 0.0596 - accuracy: 0.9815 - val_loss: 0.0854 - val_accuracy: 0.9770\n",
            "Epoch 49/50\n",
            "1688/1688 [==============================] - 6s 4ms/step - loss: 0.0609 - accuracy: 0.9812 - val_loss: 0.0850 - val_accuracy: 0.9775\n",
            "Epoch 50/50\n",
            "1688/1688 [==============================] - 6s 4ms/step - loss: 0.0602 - accuracy: 0.9821 - val_loss: 0.0877 - val_accuracy: 0.9763\n"
          ]
        }
      ]
    },
    {
      "cell_type": "code",
      "source": [
        "result_28 = model.evaluate(test_data1, test_labels_cat, batch_size=128)"
      ],
      "metadata": {
        "colab": {
          "base_uri": "https://localhost:8080/"
        },
        "id": "9J2l3l1T_aO6",
        "outputId": "52e17f26-ae38-40df-92c2-94bf8fcab735"
      },
      "execution_count": null,
      "outputs": [
        {
          "output_type": "stream",
          "name": "stdout",
          "text": [
            "79/79 [==============================] - 0s 3ms/step - loss: 0.0994 - accuracy: 0.9749\n"
          ]
        }
      ]
    },
    {
      "cell_type": "code",
      "source": [
        "time_28"
      ],
      "metadata": {
        "colab": {
          "base_uri": "https://localhost:8080/"
        },
        "id": "BJB9xH4T_dfJ",
        "outputId": "fab35604-e8f8-4bd8-dc38-a753d150c335"
      },
      "execution_count": null,
      "outputs": [
        {
          "output_type": "execute_result",
          "data": {
            "text/plain": [
              "382.6332485675812"
            ]
          },
          "metadata": {},
          "execution_count": 92
        }
      ]
    },
    {
      "cell_type": "markdown",
      "source": [
        "## Accuracy and time taken "
      ],
      "metadata": {
        "id": "KdNWSD_4_ljY"
      }
    },
    {
      "cell_type": "code",
      "source": [
        "print(\"Model training time for 28x28 : \", time_28, \"sec\")\n",
        "print(\"Model training time for 56x56 : \", time_56, \"sec\")\n",
        "\n",
        "print(\"Accuracy for 28x28 : \", result_28[1])\n",
        "print(\"Accuracy for 56x56 : \", result_56[1])"
      ],
      "metadata": {
        "colab": {
          "base_uri": "https://localhost:8080/"
        },
        "id": "Gx96qCbF_s7s",
        "outputId": "182829ee-59da-4397-a687-96a3dd0fdfc2"
      },
      "execution_count": null,
      "outputs": [
        {
          "output_type": "stream",
          "name": "stdout",
          "text": [
            "Model training time for 28x28 :  382.6332485675812 sec\n",
            "Model training time for 56x56 :  442.8674762248993 sec\n",
            "Accuracy for 28x28 :  0.9749000072479248\n",
            "Accuracy for 56x56 :  0.9746999740600586\n"
          ]
        }
      ]
    },
    {
      "cell_type": "markdown",
      "metadata": {
        "id": "F8EIcyJ0xmV2"
      },
      "source": [
        "#### Making New Predictions"
      ]
    },
    {
      "cell_type": "code",
      "execution_count": null,
      "metadata": {
        "id": "1dPmnXgoxmV3"
      },
      "outputs": [],
      "source": [
        "import cv2\n",
        "\n",
        "import numpy as np\n",
        "import pandas as pd\n",
        "import cv2 as cv \n",
        "# from google.colab.patches import cv2_imshow # for image display\n",
        "# from skimage import io\n",
        "from PIL import Image \n",
        "import matplotlib.pylab as plt"
      ]
    },
    {
      "cell_type": "code",
      "execution_count": null,
      "metadata": {
        "id": "CVJZnVE2xmV_"
      },
      "outputs": [],
      "source": [
        "# 0 = stands for reading image as grayscale\n",
        "img = cv2.imread('/content/drive/MyDrive/2.png', 0)"
      ]
    },
    {
      "cell_type": "code",
      "execution_count": null,
      "metadata": {
        "colab": {
          "base_uri": "https://localhost:8080/"
        },
        "id": "pztskBk3L9LW",
        "outputId": "87207b6a-e8e6-46f6-ee1f-d762a53b7063"
      },
      "outputs": [
        {
          "output_type": "execute_result",
          "data": {
            "text/plain": [
              "array([[255, 255, 255, ..., 255, 255, 255],\n",
              "       [255, 255, 255, ..., 255, 255, 255],\n",
              "       [255, 255, 255, ..., 255, 255, 255],\n",
              "       ...,\n",
              "       [255, 255, 255, ..., 255, 255, 255],\n",
              "       [255, 255, 255, ..., 255, 255, 255],\n",
              "       [255, 255, 255, ..., 255, 255, 255]], dtype=uint8)"
            ]
          },
          "metadata": {},
          "execution_count": 34
        }
      ],
      "source": [
        "img"
      ]
    },
    {
      "cell_type": "code",
      "execution_count": null,
      "metadata": {
        "id": "x7O8KieqxmV_",
        "colab": {
          "base_uri": "https://localhost:8080/"
        },
        "outputId": "417860fb-1342-43e8-a33a-7ea6be62bdc6"
      },
      "outputs": [
        {
          "output_type": "stream",
          "name": "stdout",
          "text": [
            "uint8\n",
            "56\n",
            "56\n"
          ]
        }
      ],
      "source": [
        "print(image.dtype)\n",
        "# Check the height of image \n",
        "print(image.shape[0])\n",
        "# Check the width of image \n",
        "print(image.shape[1])"
      ]
    },
    {
      "cell_type": "code",
      "execution_count": null,
      "metadata": {
        "id": "h7JL8065xmWA"
      },
      "outputs": [],
      "source": [
        "img = cv2.resize(img, (56,56))"
      ]
    },
    {
      "cell_type": "code",
      "execution_count": null,
      "metadata": {
        "colab": {
          "base_uri": "https://localhost:8080/",
          "height": 267
        },
        "id": "eXceuQ2WxmWB",
        "outputId": "2a1ddd37-7466-4e5d-cbf1-aaf44db88bb6"
      },
      "outputs": [
        {
          "output_type": "display_data",
          "data": {
            "image/png": "[encoded data removed]",
            "text/plain": [
              "<Figure size 432x288 with 1 Axes>"
            ]
          },
          "metadata": {}
        }
      ],
      "source": [
        "plt.imshow(np.reshape(img, (56,56)), cmap = 'gray')\n",
        "plt.show()"
      ]
    },
    {
      "cell_type": "code",
      "execution_count": null,
      "metadata": {
        "colab": {
          "base_uri": "https://localhost:8080/",
          "height": 267
        },
        "id": "RX1WwTtDxmWB",
        "outputId": "cb12b3f1-94bf-436b-f75f-c5e657302ca6"
      },
      "outputs": [
        {
          "output_type": "display_data",
          "data": {
            "image/png": "[encoded data removed]",
            "text/plain": [
              "<Figure size 432x288 with 1 Axes>"
            ]
          },
          "metadata": {}
        }
      ],
      "source": [
        "img = cv2.bitwise_not(img)\n",
        "plt.imshow(np.reshape(img, (56,56)), cmap = 'gray')\n",
        "plt.show()"
      ]
    },
    {
      "cell_type": "code",
      "execution_count": null,
      "metadata": {
        "id": "dsUA7JWDxmWB"
      },
      "outputs": [],
      "source": [
        "img_new = img.reshape(1, 3136)"
      ]
    },
    {
      "cell_type": "code",
      "execution_count": null,
      "metadata": {
        "colab": {
          "base_uri": "https://localhost:8080/"
        },
        "id": "ht8jLGoZxmWB",
        "outputId": "91c986ef-ee72-4796-da5a-728acec1f4ef",
        "scrolled": false
      },
      "outputs": [
        {
          "output_type": "stream",
          "name": "stdout",
          "text": [
            "Model: \"sequential\"\n",
            "_________________________________________________________________\n",
            " Layer (type)                Output Shape              Param #   \n",
            "=================================================================\n",
            " dense (Dense)               (None, 64)                200768    \n",
            "                                                                 \n",
            " dropout (Dropout)           (None, 64)                0         \n",
            "                                                                 \n",
            " dense_1 (Dense)             (None, 128)               8320      \n",
            "                                                                 \n",
            " dropout_1 (Dropout)         (None, 128)               0         \n",
            "                                                                 \n",
            " dense_2 (Dense)             (None, 256)               33024     \n",
            "                                                                 \n",
            " dropout_2 (Dropout)         (None, 256)               0         \n",
            "                                                                 \n",
            " dense_3 (Dense)             (None, 10)                2570      \n",
            "                                                                 \n",
            "=================================================================\n",
            "Total params: 244,682\n",
            "Trainable params: 244,682\n",
            "Non-trainable params: 0\n",
            "_________________________________________________________________\n"
          ]
        }
      ],
      "source": [
        "ans = model.predict(img_new)\n",
        "\n",
        "model.summary()"
      ]
    },
    {
      "cell_type": "code",
      "execution_count": null,
      "metadata": {
        "colab": {
          "base_uri": "https://localhost:8080/"
        },
        "id": "h7ALDGF0L9LX",
        "outputId": "f93f6618-da1f-479f-b68e-21db586f49fd"
      },
      "outputs": [
        {
          "output_type": "stream",
          "name": "stdout",
          "text": [
            "(1, 10)\n",
            "[[0. 0. 1. 0. 0. 0. 0. 0. 0. 0.]]\n",
            "2\n"
          ]
        }
      ],
      "source": [
        "print(ans.shape)\n",
        "print(ans)\n",
        "print(np.argmax(ans))"
      ]
    },
    {
      "cell_type": "code",
      "execution_count": null,
      "metadata": {
        "id": "-XCHqHMAxmWC"
      },
      "outputs": [],
      "source": [
        "yhat = np.argmax(model.predict(img_new))"
      ]
    },
    {
      "cell_type": "code",
      "execution_count": null,
      "metadata": {
        "colab": {
          "base_uri": "https://localhost:8080/",
          "height": 281
        },
        "id": "EWldAN6wxmWD",
        "outputId": "4eb1ef88-eaa5-45ca-8edc-c7738f81cbf0"
      },
      "outputs": [
        {
          "output_type": "display_data",
          "data": {
            "image/png": "[encoded data removed]",
            "text/plain": [
              "<Figure size 432x288 with 1 Axes>"
            ]
          },
          "metadata": {}
        }
      ],
      "source": [
        "plt.imshow(np.reshape(img, (56, 56)), cmap = 'gray')\n",
        "plt.title(\"Label: %i\" %yhat, fontsize = 13)\n",
        "plt.show()"
      ]
    },
    {
      "cell_type": "code",
      "execution_count": null,
      "metadata": {
        "id": "QumgRO_Krdco"
      },
      "outputs": [],
      "source": [
        ""
      ]
    }
  ],
  "metadata": {
    "colab": {
      "collapsed_sections": [],
      "name": "Harman jeet singh_101917027_LAB5.ipynb",
      "provenance": []
    },
    "kernelspec": {
      "display_name": "Python 3",
      "language": "python",
      "name": "python3"
    },
    "language_info": {
      "codemirror_mode": {
        "name": "ipython",
        "version": 3
      },
      "file_extension": ".py",
      "mimetype": "text/x-python",
      "name": "python",
      "nbconvert_exporter": "python",
      "pygments_lexer": "ipython3",
      "version": "3.8.11"
    }
  },
  "nbformat": 4,
  "nbformat_minor": 0
}